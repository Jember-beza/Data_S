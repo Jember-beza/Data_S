{
 "cells": [
  {
   "cell_type": "code",
   "execution_count": 7,
   "id": "f49f72b9-9be6-4aa0-94ac-e9d9f2e029ff",
   "metadata": {},
   "outputs": [],
   "source": [
    "## Exercise 1: Create a Jupyter Notebook"
   ]
  },
  {
   "cell_type": "code",
   "execution_count": 8,
   "id": "347a0095-d02e-4a36-a8ce-b62c39ca6c39",
   "metadata": {},
   "outputs": [],
   "source": [
    "## Exercise 2: Create markdown cell with title of the notebook \"Data Science Tools and Ecosystem\""
   ]
  },
  {
   "cell_type": "markdown",
   "id": "3e355445-d0e9-478d-a0cf-9e98bfe535a8",
   "metadata": {},
   "source": [
    "## Data Science Tools and Ecosystem ##"
   ]
  },
  {
   "cell_type": "code",
   "execution_count": 11,
   "id": "0b3a3212-1ecf-447f-b498-4c0a5bc64403",
   "metadata": {},
   "outputs": [],
   "source": [
    "## Exercise 3 - Create a markdown cell for an introduction: \"Write an introductory sentence about the notebook such as the follows:\""
   ]
  },
  {
   "cell_type": "markdown",
   "id": "a620f2b3-f119-4303-8ad7-8e133796a605",
   "metadata": {},
   "source": [
    "In this notebook, Data Science Tools and Ecosystem are summarized."
   ]
  },
  {
   "cell_type": "code",
   "execution_count": 11,
   "id": "a3415e11-5c50-4e50-92f8-28ad79da6fbb",
   "metadata": {},
   "outputs": [],
   "source": [
    "## Exercise 10 - Insert a markdown cell to list Objectives"
   ]
  },
  {
   "cell_type": "markdown",
   "id": "edb79a27-de73-4036-8d5a-f4f1d43cfeff",
   "metadata": {},
   "source": [
    "__Objectives__:\n",
    "* Jupyter\n",
    "* R\n",
    "* SQL\n",
    "* Scala\n",
    "* Java"
   ]
  },
  {
   "cell_type": "code",
   "execution_count": 15,
   "id": "72f74f15-7e27-498d-a41c-aee0a9458fbe",
   "metadata": {},
   "outputs": [],
   "source": [
    "## Exercise 4 - Create a markdown cell to list data science languages: Start the cell with an overview line such as"
   ]
  },
  {
   "cell_type": "markdown",
   "id": "437e2f99-526b-42bc-b686-819b4ca84ed7",
   "metadata": {},
   "source": [
    "Some of the popular languages that Data Scientists use are:\n",
    "1. Jupyter\n",
    "2. R\n",
    "3. SQL\n",
    "4. Scala\n",
    "5. Java"
   ]
  },
  {
   "cell_type": "code",
   "execution_count": null,
   "id": "ac5b150d-4bb6-4f62-9591-827f2a3030e5",
   "metadata": {},
   "outputs": [],
   "source": [
    "## Exercise 5 - Create a markdown cell to list data science libraries"
   ]
  },
  {
   "cell_type": "markdown",
   "id": "3484e8c7-b054-4a58-a9c0-86531d06c07c",
   "metadata": {},
   "source": [
    "Some of the commonly used libraries used by Data Scientists include:\n",
    "1. Pandas\n",
    "2. Matpot\n",
    "3. Numpy\n",
    "4. Seaborn\n",
    "5. Scikit"
   ]
  },
  {
   "cell_type": "code",
   "execution_count": 1,
   "id": "df6ba0dc-83fa-47a4-be29-522e695e865f",
   "metadata": {},
   "outputs": [],
   "source": [
    "## Exercise 6 - Create a markdown cell with a table of Data Science tools"
   ]
  },
  {
   "cell_type": "markdown",
   "id": "b520388b-359f-4fae-b70a-3b4a5f164c6e",
   "metadata": {},
   "source": [
    "| Data Science Tools |\n",
    "|:------------------:|\n",
    "|       Python       | \n",
    "|--------------------|\n",
    "|          R         |  \n",
    "|--------------------|\n",
    "|         SQL        |  \n",
    "|--------------------|\n",
    "|        Java        |\n",
    "|--------------------|\n",
    "|        Scala       |  "
   ]
  },
  {
   "cell_type": "code",
   "execution_count": 2,
   "id": "4b7ddbd4-d6c5-4185-87f0-0ed368d0c1c8",
   "metadata": {},
   "outputs": [],
   "source": [
    "## Exercise 7 - Create a markdown cell introducing arithmetic expression examples"
   ]
  },
  {
   "cell_type": "markdown",
   "id": "5ed7f001-4b83-42e4-8bda-2852ed57a9c6",
   "metadata": {},
   "source": [
    "### Below are a few examples of evaluating arithmetic expressions in Python ###"
   ]
  },
  {
   "cell_type": "code",
   "execution_count": 8,
   "id": "b7dadef1-b48c-4f7c-b8af-6ca8b1f2705c",
   "metadata": {},
   "outputs": [],
   "source": [
    "## Exercise 8 - Create a code cell to multiply and add numbers"
   ]
  },
  {
   "cell_type": "code",
   "execution_count": 7,
   "id": "f694990d-b37e-439e-8154-2b67f443a0ed",
   "metadata": {
    "scrolled": true
   },
   "outputs": [
    {
     "data": {
      "text/plain": [
       "17"
      ]
     },
     "execution_count": 7,
     "metadata": {},
     "output_type": "execute_result"
    }
   ],
   "source": [
    "## This is a simple arithmetic expression to mutiply then add integers\n",
    "(3*4)+5"
   ]
  },
  {
   "cell_type": "code",
   "execution_count": 9,
   "id": "b59b818c-62bf-46a2-8a3c-e728acbed4a8",
   "metadata": {},
   "outputs": [],
   "source": [
    "## Exercise 9 - Create a code cell to convert minutes to hours"
   ]
  },
  {
   "cell_type": "code",
   "execution_count": 10,
   "id": "f5df0bd4-e44d-4b33-ad64-02b14c97e567",
   "metadata": {},
   "outputs": [
    {
     "data": {
      "text/plain": [
       "3.3333333333333335"
      ]
     },
     "execution_count": 10,
     "metadata": {},
     "output_type": "execute_result"
    }
   ],
   "source": [
    "##This will convert 200 minutes to hours by diving by 60.\n",
    "200/60"
   ]
  },
  {
   "cell_type": "code",
   "execution_count": 12,
   "id": "eabffc3a-fa5a-451a-8e5d-63d0bbbdd806",
   "metadata": {},
   "outputs": [],
   "source": [
    "## Exercise 11 - Create a markdown cell to indicate the Author's name"
   ]
  },
  {
   "cell_type": "markdown",
   "id": "e9bc2980-6c73-4014-94c3-602eb354af9e",
   "metadata": {},
   "source": [
    "## Author ##"
   ]
  },
  {
   "cell_type": "markdown",
   "id": "3d2d1369-6490-43e1-9290-317fdfdfb974",
   "metadata": {},
   "source": [
    "Jember Beza"
   ]
  }
 ],
 "metadata": {
  "kernelspec": {
   "display_name": "Python 3 (ipykernel)",
   "language": "python",
   "name": "python3"
  },
  "language_info": {
   "codemirror_mode": {
    "name": "ipython",
    "version": 3
   },
   "file_extension": ".py",
   "mimetype": "text/x-python",
   "name": "python",
   "nbconvert_exporter": "python",
   "pygments_lexer": "ipython3",
   "version": "3.12.4"
  }
 },
 "nbformat": 4,
 "nbformat_minor": 5
}
